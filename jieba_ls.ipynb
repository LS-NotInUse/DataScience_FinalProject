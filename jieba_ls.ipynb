{
 "cells": [
  {
   "cell_type": "code",
   "execution_count": null,
   "metadata": {},
   "outputs": [],
   "source": [
    "import jieba.analyse\n",
    "import json\n",
    "import re"
   ]
  },
  {
   "cell_type": "code",
   "execution_count": null,
   "metadata": {},
   "outputs": [],
   "source": [
    "with open(\"post_2018-1-1_2018-6-15.txt\", \"r\") as reader:\n",
    "    all_posts = json.load(reader)\n",
    "for post in all_posts:\n",
    "    try:\n",
    "        post['message']=re.sub('^https?:\\/\\/.*[\\r\\n]*', '',post['message'], flags=re.MULTILINE)\n",
    "        post['message']=re.sub('\\｜(.*)', '',post['message'], flags=re.MULTILINE)\n",
    "    except:\n",
    "        try:\n",
    "            post['story']=re.sub('^https?:\\/\\/.*[\\r\\n]*', '',post['story'], flags=re.MULTILINE)\n",
    "            post['story']=re.sub('\\｜(.*)', '',post['story'], flags=re.MULTILINE)\n",
    "        except:\n",
    "            pass"
   ]
  },
  {
   "cell_type": "code",
   "execution_count": null,
   "metadata": {},
   "outputs": [],
   "source": [
    "post_word_count = {}\n",
    "comment_word_count = {}\n",
    "for post in all_posts:\n",
    "    try:\n",
    "        post_word = jieba.analyse.extract_tags(post[\"message\"], 30)\n",
    "    except:\n",
    "        try:\n",
    "            post_word = jieba.analyse.extract_tags(post[\"story\"], 30)\n",
    "        except:\n",
    "            pass\n",
    "    comment_word = []\n",
    "    for comment in post[\"comments\"]:\n",
    "        try:\n",
    "            comment_word.extend(jieba.analyse.extract_tags(comment[\"message\"], 30))\n",
    "        except:\n",
    "            try:\n",
    "                comment_word.extend(jieba.analyse.extract_tags(comment[\"story\"], 30))\n",
    "            except:\n",
    "                pass\n",
    "    \n",
    "    for word in post_word:\n",
    "        try:\n",
    "            post_word_count[word] +=1\n",
    "        except:\n",
    "            post_word_count[word] = 1\n",
    "    for word in comment_word:\n",
    "        try:\n",
    "            comment_word_count[word] +=1\n",
    "        except:\n",
    "            comment_word_count[word] = 1\n",
    "post_word_count = [[i, post_word_count[i]] for i in sorted(post_word_count, key=post_word_count.get, reverse=True)]\n",
    "comment_word_count = [[i, comment_word_count[i]] for i in sorted(comment_word_count, key=comment_word_count.get, reverse=True)]"
   ]
  },
  {
   "cell_type": "code",
   "execution_count": null,
   "metadata": {},
   "outputs": [],
   "source": [
    "for i in range(1, 20):\n",
    "    post_word_count = [x for x in post_word_count if x[1]>i]\n",
    "    if(len(post_word_count) < 600):\n",
    "        break\n",
    "for word in post_word_count:\n",
    "    print(str(word[0])+ \"\\t->\\t\" + str(word[1]))"
   ]
  },
  {
   "cell_type": "code",
   "execution_count": null,
   "metadata": {},
   "outputs": [],
   "source": [
    "for i in range(1, 20):\n",
    "    comment_word_count = [x for x in comment_word_count if x[1]>i]\n",
    "    if(len(comment_word_count) < len(post_word_count)+50):\n",
    "        break\n",
    "for word in comment_word_count:\n",
    "    print(str(word[0])+ \"\\t->\\t\" + str(word[1]))"
   ]
  },
  {
   "cell_type": "code",
   "execution_count": null,
   "metadata": {
    "scrolled": false
   },
   "outputs": [],
   "source": [
    "common_word = []\n",
    "for i in range(len(comment_word_count)):\n",
    "    for j in range(len(post_word_count)):\n",
    "        if(comment_word_count[i][0] == post_word_count[j][0]):\n",
    "            common_word.append([comment_word_count[i][0],comment_word_count[i][1]*post_word_count[j][1]])\n",
    "            print(comment_word_count[i][0]+\",\\t留: 次數:\"+str(comment_word_count[i][1])+\" 排名:\"+str(i+1)+\"/\"+str(len(comment_word_count))+\"\\t\\t文: 次數\"+str(post_word_count[j][1])+\" 排名:\"+str(j+1)+\"/\"+str(len(post_word_count)))\n",
    "\n",
    "common_word = sorted(common_word, key=lambda x: x[1], reverse=True)\n",
    "print(len(common_word))"
   ]
  },
  {
   "cell_type": "code",
   "execution_count": null,
   "metadata": {},
   "outputs": [],
   "source": [
    "for word in post_word_count:\n",
    "    print(str(word[0]) + \";\" + str(word[1]))"
   ]
  },
  {
   "cell_type": "code",
   "execution_count": null,
   "metadata": {},
   "outputs": [],
   "source": [
    "for word in comment_word_count:\n",
    "    print(str(word[0]) + \";\" + str(word[1]))"
   ]
  },
  {
   "cell_type": "code",
   "execution_count": null,
   "metadata": {
    "scrolled": false
   },
   "outputs": [],
   "source": [
    "for word in common_word:\n",
    "    print(str(word[0]) + \";\" + str(int(math.sqrt(word[1]))))"
   ]
  },
  {
   "cell_type": "code",
   "execution_count": null,
   "metadata": {},
   "outputs": [],
   "source": []
  }
 ],
 "metadata": {
  "kernelspec": {
   "display_name": "Python 3",
   "language": "python",
   "name": "python3"
  },
  "language_info": {
   "codemirror_mode": {
    "name": "ipython",
    "version": 3
   },
   "file_extension": ".py",
   "mimetype": "text/x-python",
   "name": "python",
   "nbconvert_exporter": "python",
   "pygments_lexer": "ipython3",
   "version": "3.6.4"
  }
 },
 "nbformat": 4,
 "nbformat_minor": 2
}
