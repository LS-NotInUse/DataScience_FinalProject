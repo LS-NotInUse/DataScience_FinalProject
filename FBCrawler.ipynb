{
 "cells": [
  {
   "cell_type": "code",
   "execution_count": null,
   "metadata": {},
   "outputs": [],
   "source": [
    "import requests\n",
    "import time\n",
    "import json\n",
    "\n",
    "\n",
    "class FbCrawler:\n",
    "    def __init__(self, page_name):\n",
    "        self.access_token = \"&access_token=\" + \"EAACEdEose0cBAKvu3lU1PGeOPnSsxeZAwBpaYQsbNDineZB4ZCtfaYVaxTPG9dZAWxlEXxVx6g45cpFspoWwSctqQfr98fAEJu5szTb6yoDAosUJWPb5Jz7rDqLx6BdaPeJl8LnFWPSst4SBOsXBJf9eS4FuGyGbVvHRnIlGsBylO2KbHAXBbGXzIk7ECwB4Us2sgQwyRAZDZD\"\n",
    "        self.page_url = (\"https://graph.facebook.com/v3.0/%s/posts?\" %page_name)\n",
    "        self.all_posts = list()\n",
    "        self.next = None\n",
    "    \n",
    "    def clearPosts(self):\n",
    "        self.all_posts = list()\n",
    "        \n",
    "    def getPosts(self, since=None, until=None, next_posts=None):\n",
    "        time_range = \"%s%s\" %(\"\"if since is None else \"&since=\"+since, \"\"if until is None else \"&until=\"+until)\n",
    "        final_url = (self.page_url+ self.access_token + time_range) if next_posts is None else next_posts\n",
    "#         print(final_url)\n",
    "        \n",
    "        posts_json = json.loads(requests.get(final_url).text)\n",
    "        for data in posts_json[\"data\"]:\n",
    "            self.all_posts.append(data)\n",
    "            \n",
    "        if ((next_posts is not None) or ((since is not None) and (until is not None))):\n",
    "            try:\n",
    "                self.next = posts_json[\"paging\"][\"next\"]\n",
    "                self.getPosts(next_posts=self.next)\n",
    "            except:\n",
    "                self.next = None\n",
    "                print(\"end, count: \" + str(len(self.all_posts)))\n",
    "        \n",
    "            \n",
    "    def printPosts(self):\n",
    "        for element in self.all_posts:\n",
    "            print(element[\"created_time\"])\n",
    "    \n",
    "    def writePosts(self):\n",
    "        with open(\"post_\"+posts_since+\"_\"+posts_until+\".txt\", \"w\") as writer:\n",
    "            writer.write(str(self.all_posts))"
   ]
  },
  {
   "cell_type": "code",
   "execution_count": null,
   "metadata": {},
   "outputs": [],
   "source": [
    "posts_since = \"2017-1-1\"\n",
    "posts_until = \"2017-5-1\"\n",
    "\n",
    "crawler = FbCrawler(\"DoctorKoWJ\")\n",
    "crawler.clearPosts()\n",
    "crawler.getPosts(posts_since, posts_until)\n",
    "crawler.printPosts()\n",
    "crawler.writePosts()"
   ]
  },
  {
   "cell_type": "code",
   "execution_count": null,
   "metadata": {},
   "outputs": [],
   "source": []
  },
  {
   "cell_type": "code",
   "execution_count": null,
   "metadata": {},
   "outputs": [],
   "source": []
  }
 ],
 "metadata": {
  "kernelspec": {
   "display_name": "Python 3",
   "language": "python",
   "name": "python3"
  },
  "language_info": {
   "codemirror_mode": {
    "name": "ipython",
    "version": 3
   },
   "file_extension": ".py",
   "mimetype": "text/x-python",
   "name": "python",
   "nbconvert_exporter": "python",
   "pygments_lexer": "ipython3",
   "version": "3.6.4"
  }
 },
 "nbformat": 4,
 "nbformat_minor": 2
}
