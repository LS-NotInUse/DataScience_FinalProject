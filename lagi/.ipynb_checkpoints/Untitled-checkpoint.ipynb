{
 "cells": [
  {
   "cell_type": "code",
   "execution_count": 1,
   "metadata": {},
   "outputs": [
    {
     "name": "stdout",
     "output_type": "stream",
     "text": [
      "Crawl Done\n"
     ]
    }
   ],
   "source": [
    "# 抓HTML\n",
    "import requests\n",
    "from bs4 import BeautifulSoup\n",
    "\n",
    "ted_url = \"https://www.ted.com/talks/tim_urban_inside_the_mind_of_a_master_procrastinator/transcript\"\n",
    "ted_content = requests.get(ted_url).text\n",
    "ted_soup = BeautifulSoup(ted_content, \"html.parser\")\n",
    "\n",
    "print(\"Crawl Done\")"
   ]
  },
  {
   "cell_type": "code",
   "execution_count": 2,
   "metadata": {},
   "outputs": [
    {
     "name": "stdout",
     "output_type": "stream",
     "text": [
      "English transcript Done\n"
     ]
    }
   ],
   "source": [
    "# 抓英文字幕\n",
    "ted_transcript = ted_soup.find_all(class_=\"Grid Grid--with-gutter d:f@md p-b:4\")\n",
    "with open(\"output.txt\", \"w\") as write_file:\n",
    "    for paragraph in ted_transcript:\n",
    "        write_file.write(str(paragraph.find(\"p\").string).replace(\"\\t\", \"\"))\n",
    "        write_file.write(\"\\n==========\\n\\n\")\n",
    "\n",
    "print(\"English transcript Done\")"
   ]
  },
  {
   "cell_type": "code",
   "execution_count": 3,
   "metadata": {},
   "outputs": [
    {
     "name": "stdout",
     "output_type": "stream",
     "text": [
      "Paragraph Done\n"
     ]
    }
   ],
   "source": [
    "# 把字幕湊成句子\n",
    "with open(\"output.txt\", \"r\") as read_file:\n",
    "    with open(\"output2.txt\", \"w\") as write_file:\n",
    "        for line in read_file:\n",
    "            if(len(line) > 1):\n",
    "                if (line.endswith(\".\\n\") or line.endswith(\".\\\"\\n\") or line.endswith(\"?\\n\")):\n",
    "                    write_file.write(line)\n",
    "                else:\n",
    "                    write_file.write(line[:-1] + \" \")\n",
    "            else:\n",
    "                write_file.write(line)\n",
    "\n",
    "print(\"Paragraph Done\")"
   ]
  },
  {
   "cell_type": "code",
   "execution_count": 4,
   "metadata": {},
   "outputs": [
    {
     "name": "stdout",
     "output_type": "stream",
     "text": [
      "Translate Done\n"
     ]
    }
   ],
   "source": [
    "# 翻譯字幕\n",
    "from googletrans import Translator\n",
    "\n",
    "translator = Translator()\n",
    "with open(\"output2.txt\", \"r\") as read_file:\n",
    "    with open(\"output3.txt\", \"w\") as write_file:\n",
    "        for line in read_file:\n",
    "            write_file.write(translator.translate(line, dest=\"zh-TW\").text + \"\\n\")\n",
    "\n",
    "print(\"Translate Done\")"
   ]
  },
  {
   "cell_type": "code",
   "execution_count": 2,
   "metadata": {},
   "outputs": [
    {
     "name": "stdout",
     "output_type": "stream",
     "text": [
      "Video Done\n"
     ]
    }
   ],
   "source": [
    "# 載影片\n",
    "from pytube import YouTube\n",
    "YouTube(\"https://www.youtube.com/watch?v=mVN-kdWxmfs\").streams.filter(only_audio=True, subtype=\"mp4\").first().download(filename=\"test\")\n",
    "\n",
    "print(\"Video Done\")"
   ]
  },
  {
   "cell_type": "code",
   "execution_count": 11,
   "metadata": {},
   "outputs": [
    {
     "name": "stdout",
     "output_type": "stream",
     "text": [
      "Audio Done\n"
     ]
    }
   ],
   "source": [
    "# mp4轉wav\n",
    "import subprocess\n",
    "import os\n",
    "\n",
    "cmdline = [\"avconv\",    # 用avconv\n",
    "           \"-ss\", \"10\",    # 從第10秒開始\n",
    "           \"-i\", \"test.mp4\",    # input_file_name\n",
    "           \"-t\", \"120\",    # 擷取30秒\n",
    "           \"-f\", \"wav\",    # 轉成wav檔\n",
    "           \"test.wav\"    # output_file_name\n",
    "          ]\n",
    "subprocess.call(cmdline)\n",
    "\n",
    "print(\"Audio Done\")"
   ]
  },
  {
   "cell_type": "code",
   "execution_count": 17,
   "metadata": {},
   "outputs": [
    {
     "name": "stdout",
     "output_type": "stream",
     "text": [
      "Chunk Done\n"
     ]
    }
   ],
   "source": [
    "# 切割語句\n",
    "from pydub import AudioSegment\n",
    "from pydub.silence import split_on_silence\n",
    "\n",
    "sound = AudioSegment.from_wav(\"test.wav\")\n",
    "chunks = split_on_silence(sound, min_silence_len=700, silence_thresh=-40, keep_silence=200)\n",
    "for i, chunk in enumerate(chunks):\n",
    "    chunk.export(\"chunk/{0}.wav\".format(i), format=\"wav\")\n",
    "#     print(i)\n",
    "\n",
    "print(\"Chunk Done\")"
   ]
  },
  {
   "cell_type": "code",
   "execution_count": 19,
   "metadata": {},
   "outputs": [
    {
     "name": "stdout",
     "output_type": "stream",
     "text": [
      "['0.wav', '1.wav', '2.wav', '3.wav', '4.wav', '5.wav', '6.wav', '7.wav', '8.wav', '9.wav', '10.wav', '11.wav', '12.wav', '13.wav', '14.wav', '15.wav', '16.wav', '17.wav', '18.wav', '19.wav', '20.wav', '21.wav', '22.wav']\n"
     ]
    }
   ],
   "source": [
    "# 讀取檔案名稱\n",
    "import os\n",
    "chunk_list = os.listdir(\"chunk/\")\n",
    "try:\n",
    "    chunk_list.remove(\".DS_Store\")    #for mac\n",
    "except:\n",
    "    pass\n",
    "\n",
    "chunk_list.sort(key=lambda x: int(x[:-4]))\n",
    "print(chunk_list)"
   ]
  },
  {
   "cell_type": "code",
   "execution_count": 23,
   "metadata": {},
   "outputs": [
    {
     "name": "stdout",
     "output_type": "stream",
     "text": [
      "0.wav\n",
      "\tSony College\n",
      "\n",
      "1.wav\n",
      "\tI was a government major which means I had to write a lot of papers\n",
      "\n",
      "2.wav\n",
      "\tnow what a normal student write a paper tonight spread the work out a little like this\n",
      "\n",
      "3.wav\n",
      "\t~~\n",
      "\n",
      "4.wav\n",
      "\tget started maybe a little slowly when you get enough done in the first week that was some have your days later on everything gets done think stay civil\n",
      "\n",
      "5.wav\n",
      "\tand I would want to do that like that that would be the plan I would I would have it all ready to go but then then then that they actually the people would come along and then I kind of do this\n",
      "\n",
      "6.wav\n",
      "\t~~\n",
      "\n",
      "7.wav\n",
      "\tI know what happened every single Paper\n",
      "\n",
      "8.wav\n",
      "\tbut then came my 90-page senior thesis paper supposed to spend a year on\n",
      "\n",
      "9.wav\n",
      "\tand you for paper like that my normal workflow was not an option was way too big project so I plan things out and I decided I kind of had to go something like this\n",
      "\n",
      "10.wav\n",
      "\tso the year ago so it start off light\n",
      "\n",
      "11.wav\n",
      "\tand I can bump it up in the middle months\n",
      "\n",
      "12.wav\n",
      "\tand then at the end I would kick it up the high gears little staircase how hard you just walk up the stairs\n",
      "\n",
      "13.wav\n",
      "\tno big deal right\n",
      "\n",
      "14.wav\n",
      "\tthe best funniest thing happened those first few months\n",
      "\n",
      "15.wav\n",
      "\tthey came and went and I couldn't quite do stuff\n",
      "\n",
      "16.wav\n",
      "\tawesome new revised plan\n",
      "\n",
      "17.wav\n",
      "\tand then\n",
      "\n",
      "18.wav\n",
      "\tBengals middleman's actually went by\n",
      "\n",
      "19.wav\n",
      "\tand I didn't really write words and so we're here\n",
      "\n",
      "20.wav\n",
      "\tand then two months turned into one month turned into two weeks Monday woke up\n",
      "\n",
      "21.wav\n",
      "\t3 days until the deadline still not having written the word and so I did the only thing I could I wrote a 90-page is over 72 hours pulling not one but two all-nighters humans are not supposed to pull two all nighters\n",
      "\n",
      "22.wav\n",
      "\tsprinted across campus in slow motion\n",
      "\n"
     ]
    }
   ],
   "source": [
    "# 語音辨識\n",
    "import speech_recognition as sr\n",
    "\n",
    "r = sr.Recognizer()\n",
    "with open(\"result.txt\", \"w\") as write_file:\n",
    "    for file_name in chunk_list:\n",
    "        with sr.AudioFile(\"chunk/\" + file_name) as source:\n",
    "            print(file_name)\n",
    "            audio = r.record(source)\n",
    "        try:\n",
    "            command = r.recognize_google(audio)\n",
    "            print(\"\\t\" +command + \"\\n\")\n",
    "            write_file.write(file_name[:-4] + \" :\\t\" + command + \"\\n\\n\")\n",
    "        except:\n",
    "            print(\"\\t~~\\n\")"
   ]
  },
  {
   "cell_type": "code",
   "execution_count": null,
   "metadata": {},
   "outputs": [],
   "source": []
  }
 ],
 "metadata": {
  "kernelspec": {
   "display_name": "Python 3",
   "language": "python",
   "name": "python3"
  },
  "language_info": {
   "codemirror_mode": {
    "name": "ipython",
    "version": 3
   },
   "file_extension": ".py",
   "mimetype": "text/x-python",
   "name": "python",
   "nbconvert_exporter": "python",
   "pygments_lexer": "ipython3",
   "version": "3.6.4"
  }
 },
 "nbformat": 4,
 "nbformat_minor": 2
}
